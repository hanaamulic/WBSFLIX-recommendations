{
 "cells": [
  {
   "cell_type": "code",
   "execution_count": 5,
   "id": "611b8abf-54c6-4663-b0e2-6c3a4182fd3d",
   "metadata": {},
   "outputs": [],
   "source": [
    "import pandas as pd\n",
    "import numpy as np\n",
    "import seaborn as sns\n",
    "import matplotlib.pyplot as plt\n",
    "from sklearn.metrics.pairwise import cosine_similarity"
   ]
  },
  {
   "cell_type": "code",
   "execution_count": 6,
   "id": "c03a161a-0276-4b95-8616-11381d52cf7e",
   "metadata": {},
   "outputs": [],
   "source": [
    "movies = pd.read_csv('data/ml-latest-small/movies.csv')"
   ]
  },
  {
   "cell_type": "code",
   "execution_count": 84,
   "id": "3b5c95c5-1bf2-4eba-897b-53e94c4502ae",
   "metadata": {},
   "outputs": [],
   "source": [
    "ratings = pd.read_csv('data/ml-latest-small/ratings.csv')"
   ]
  },
  {
   "cell_type": "code",
   "execution_count": 86,
   "id": "3491d816-5302-4039-b881-b12c036ca54c",
   "metadata": {},
   "outputs": [],
   "source": [
    "movies_ratings = movies.merge(ratings)"
   ]
  },
  {
   "cell_type": "code",
   "execution_count": 201,
   "id": "71791263-3238-4f1b-8919-e4a57e15fbff",
   "metadata": {},
   "outputs": [],
   "source": [
    "movies_ratings_pivot = pd.pivot_table(movies_ratings,values='rating',columns='title',index='userId')"
   ]
  },
  {
   "cell_type": "code",
   "execution_count": 51,
   "id": "e01724ea-a707-48cc-b9cf-b4f51f4ad3ff",
   "metadata": {},
   "outputs": [],
   "source": [
    "movies_ratings_pivot = movies_ratings_pivot.fillna(0)"
   ]
  },
  {
   "cell_type": "code",
   "execution_count": 170,
   "id": "4bb20d09-b407-40ea-baca-015cb3a485e6",
   "metadata": {},
   "outputs": [],
   "source": [
    "def chat(df, userId):\n",
    "    movies_ratings_pivot = pd.pivot_table(df,values='rating',columns='title',index='userId')\n",
    "    print(f'''Hi {userId}! I am your personal recommender.\n",
    "    Would you like me to recommend you some popular movies based on your previous ratings?''')\n",
    "    print(f'''Type [y]/[n]''')\n",
    "    x=input()\n",
    "    if(x == 'y'):\n",
    "        list_of_movies = get_recommended_movies(movies_ratings_pivot,userId)\n",
    "        for movie in list_of_movies:\n",
    "            print(f'''{movie}''')\n",
    "    else:\n",
    "        print(f'''Goodbye''')"
   ]
  },
  {
   "cell_type": "code",
   "execution_count": 205,
   "id": "9101189c-2a65-4990-90ab-b1f4d0be7f46",
   "metadata": {},
   "outputs": [],
   "source": [
    "def get_fav_movie(df,userId):\n",
    "    user_top_movies = (movies_ratings[movies_ratings.userId == userId]\n",
    "         .sort_values('rating',ascending= False)\n",
    "         .head(5)\n",
    "         .reset_index()\n",
    "    )\n",
    "    return user_top_movies    "
   ]
  },
  {
   "cell_type": "code",
   "execution_count": 169,
   "id": "bed57ecf-d75f-46cb-9d12-69590fecac24",
   "metadata": {},
   "outputs": [],
   "source": [
    "def get_recommended_movies(df,userId):\n",
    "    list_of_movies=[]\n",
    "    userId = 43\n",
    "    sample_similitude = pd.DataFrame(cosine_similarity(movies_ratings_pivot), \n",
    "                columns=movies_ratings_pivot.index, index=movies_ratings_pivot.index)\n",
    "    predictions = pd.DataFrame(columns=['title','prediction'])\n",
    "    for movie in movies_ratings_pivot.columns:\n",
    "        if(movies_ratings_pivot[movie][userId] == 0):\n",
    "            temp = pd.DataFrame({'ratings' : movies_ratings_pivot[movie],\n",
    "                          'simility' : sample_similitude[userId]})\n",
    "            temp= temp[temp.ratings != 0]\n",
    "            if (sum(temp['simility']) != 0):\n",
    "                pred = sum(temp['ratings'] * temp['simility']) / (sum(temp['simility']))\n",
    "                predictions= predictions.append({'title' : movie, 'prediction' : pred}, ignore_index=True)\n",
    "    list_of_movies = predictions.sort_values('prediction',ascending=False)['title'].head(5).to_list()\n",
    "    \n",
    "    return list_of_movies"
   ]
  },
  {
   "cell_type": "code",
   "execution_count": 203,
   "id": "0671e883-4d92-4308-9050-e3d9e92fd4d4",
   "metadata": {},
   "outputs": [],
   "source": [
    "def did_already_watch(df,movie,userId):\n",
    "    if(df[df.index == userId][movie].isnull().iloc[0]):\n",
    "        return 0\n",
    "    else:\n",
    "        return 1"
   ]
  },
  {
   "cell_type": "code",
   "execution_count": 171,
   "id": "a429ccb8-e326-48fe-9769-8bf202952193",
   "metadata": {},
   "outputs": [
    {
     "name": "stdout",
     "output_type": "stream",
     "text": [
      "Hi 4! I am your personal recommender.\n",
      "    Would you like me to recommend you some popular movies based on your previous ratings?\n",
      "Type [y]/[n]\n"
     ]
    },
    {
     "name": "stdin",
     "output_type": "stream",
     "text": [
      " y\n"
     ]
    },
    {
     "name": "stdout",
     "output_type": "stream",
     "text": [
      "Heidi Fleiss: Hollywood Madam (1995)\n",
      "Dr. Goldfoot and the Bikini Machine (1965)\n",
      "Jonah Who Will Be 25 in the Year 2000 (Jonas qui aura 25 ans en l'an 2000) (1976)\n",
      "Dream of Light (a.k.a. Quince Tree Sun, The) (Sol del membrillo, El) (1992)\n",
      "Into the Woods (1991)\n"
     ]
    }
   ],
   "source": [
    "chat(movies_ratings, 4)"
   ]
  }
 ],
 "metadata": {
  "kernelspec": {
   "display_name": "Python 3 (ipykernel)",
   "language": "python",
   "name": "python3"
  },
  "language_info": {
   "codemirror_mode": {
    "name": "ipython",
    "version": 3
   },
   "file_extension": ".py",
   "mimetype": "text/x-python",
   "name": "python",
   "nbconvert_exporter": "python",
   "pygments_lexer": "ipython3",
   "version": "3.8.8"
  }
 },
 "nbformat": 4,
 "nbformat_minor": 5
}
